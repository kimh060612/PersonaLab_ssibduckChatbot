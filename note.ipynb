{
 "cells": [
  {
   "cell_type": "code",
   "execution_count": null,
   "metadata": {},
   "outputs": [],
   "source": [
    "from langchain.prompts import FewShotChatMessagePromptTemplate, PromptTemplate\n",
    "\n",
    "\n",
    "template = \"\"\"\n",
    "나는 당신이 {series}의 {character}처럼 행동하길 바랍니다. \n",
    "당신은 이제 {character} 코스프레입니다 다른 사람들의 질문이 소설과 관련된 것이라면 소설의 대사를 다시 활용해 보세요. \n",
    "{character}가 사용하는 어조, 태도, 어휘를 사용하여 {character}처럼 응답하고 대답해 주시기를 바랍니다. \n",
    "당신은 {character}에 대한 지식을 모두 알아야 합니다. {description}\n",
    "\"\"\"\n",
    "prompt = PromptTemplate.from_template(template)\n",
    "t = prompt.format_prompt(series=\"Re:Zero부터 시작하는 이세계 생활\", character=\"렘\", description=\"\")"
   ]
  },
  {
   "cell_type": "code",
   "execution_count": null,
   "metadata": {},
   "outputs": [],
   "source": []
  }
 ],
 "metadata": {
  "language_info": {
   "name": "python"
  }
 },
 "nbformat": 4,
 "nbformat_minor": 2
}
